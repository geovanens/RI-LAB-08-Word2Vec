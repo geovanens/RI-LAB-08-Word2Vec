{
 "cells": [
  {
   "cell_type": "code",
   "execution_count": 10,
   "metadata": {
    "colab": {},
    "colab_type": "code",
    "id": "7qmIqz34Tfvh"
   },
   "outputs": [],
   "source": [
    "# Dependências\n",
    "import gensim\n",
    "import pyemd\n",
    "from gensim.models import Word2Vec\n",
    "import pandas as pd\n",
    "import math\n",
    "import pickle"
   ]
  },
  {
   "cell_type": "code",
   "execution_count": 2,
   "metadata": {},
   "outputs": [],
   "source": [
    "# Desabilitando warnings \n",
    "import warnings\n",
    "warnings.filterwarnings('ignore')"
   ]
  },
  {
   "cell_type": "code",
   "execution_count": 12,
   "metadata": {},
   "outputs": [
    {
     "data": {
      "text/plain": [
       "['sociedade foi rubens paiva não facínoras que mataram”',\n",
       " 'justiça suspende decisão que proibia forças armadas celebrarem golpe 1964',\n",
       " 'governo bolsonaro prega “negacionismo histórico” sobre ditadura',\n",
       " 'quando pais gabo perceberam que tinham filho mentiroso',\n",
       " 'rádios canadenses banem músicas michael jackson programação',\n",
       " 'rosângela uma das crianças sequestradas por famílias militares ditadura',\n",
       " '“lógica usar torturadores ditadura crime foi usada nas milícias”',\n",
       " 'bolsonaro troca embaixada por escritório jerusalém mas não evita retaliação palestina',\n",
       " 'lado mais sombrio dickens',\n",
       " 'amor entre mulheres que sacudiu paraguai',\n",
       " 'feminista susan sontag contra norman mailer',\n",
       " 'imagens questionadoras harun farocki',\n",
       " 'manuscrito ‘cem anos solidão’ que garcía márquez acreditava ter perdido',\n",
       " 'ricardo olha para tela celular diz: “eu estou falando comigo mesmo”',\n",
       " 'morte inocente neto lula soltou monstros ódio',\n",
       " 'tragédia ucrânia',\n",
       " 'por que papa francisco ordenou abertura dos arquivos secretos vaticano sobre holocausto judeu?',\n",
       " 'tuíte muito vulgar',\n",
       " 'bolsonaro (des)governa brasil pelo twitter',\n",
       " 'igualdade radical',\n",
       " 'instruído por ministros bolsonaro sinal verde para fusão embraer-boeing',\n",
       " 'taurus ascensão uma fabricante armas com bolsonaro',\n",
       " 'davos esvaziada recebe bolsonaro como astro nova política',\n",
       " 'guerra comercial leva fmi cortar previsões para crescimento mundial',\n",
       " 'boris fausto golpe 64: impossível contra fatos estabelecidos”',\n",
       " 'breve discurso bolsonaro decepciona davos',\n",
       " 'carlos ghosn deixa presidência renault para não ser destituído',\n",
       " 'puxado por brasil espanha lucro santander cresce 18% 2018',\n",
       " 'europa busca reconciliar com seu violento século',\n",
       " 'entregadores comida são reféns seu ‘like’',\n",
       " 'matando como ‘call duty’',\n",
       " 'debate políticas públicas américa latina continua girando torno temas dos anos oitenta”',\n",
       " 'ética solidariedade feminista',\n",
       " 'adam tooze: “bolsonaro terrível mas itália que poderia quebrar economia mundial”',\n",
       " 'onde como assistir barcelona lyon pela champions league',\n",
       " 'finlândia conclui experiência renda básica universal com resultados ambíguos',\n",
       " 'percalços dos planos paulo guedes para controlar gasto público',\n",
       " 'zagueiros decidem atlético madrid vence juventus champions',\n",
       " 'familiares das vítimas incêndio protestam contra flamengo: “estamos desamparados”',\n",
       " 'maior elétrica dos eua declara falência por responsabilidade nos incêndios califórnia',\n",
       " 'turim apaixona por cristiano ronaldo',\n",
       " 'após acenar com embaixada bolsonaro anuncia escritório comercial jerusalém',\n",
       " '“mostre que loucas podem fazer”: anúncio nike sobre mulheres esporte',\n",
       " 'onde como assistir real madrid barcelona pelo campeonato espanhol',\n",
       " 'vinicius junior decola real madrid chega seleção',\n",
       " 'trágico destino tom ballard',\n",
       " 'paulínia time ‘hollywood brasileira’ salvo pela venda fabinho liverpool',\n",
       " 'onde como assistir juventus atlético madrid pela champions league',\n",
       " 'zidane volta real madrid nove meses depois sair',\n",
       " 'eurico miranda ex-presidente vasco cartola cbf morre rio janeiro',\n",
       " 'cristiano ronaldo faz três atlético madrid conduz juventus quartas champions',\n",
       " 'manchester city indenizará jogadores que foram vítimas abuso sexual clube',\n",
       " 'comandado por messi barcelona goleia lyon classifica champions',\n",
       " 'sorteio coloca manchester united contra barcelona nas quartas champions league',\n",
       " 'eder militão zagueiro mais caro história real madrid primeiro reforço zidane',\n",
       " 'barcelona vence partida com recorde mundial público para futebol feminino',\n",
       " 'messi aclamado até casa dos rivais',\n",
       " 'vinicius junior: “me vejo ganhando bola ouro aos anos”',\n",
       " 'greve mulheres redação país',\n",
       " 'mecenas que levou obra brasileiros museu reina sofía espanha',\n",
       " 'resíduos brumadinho matam peixes rio são francisco',\n",
       " 'onde como assistir amistoso brasil república tcheca',\n",
       " '“chamar-me traidor foi uma estratégia muito bem montada para minar minha liderança”',\n",
       " 'surpresa trump revoga últimas sanções impostas coreia norte',\n",
       " 'incerto futuro dos militares que desertaram venezuela',\n",
       " 'investigação não encontra provas conspiração entre trump rússia',\n",
       " 'com cavadinha suárez barcelona elimina real madrid vai final copa rei',\n",
       " 'barcelona volta vencer real madrid encaminha título campeonato espanhol',\n",
       " 'steve bannon: “bolsonaro salvini são melhores representantes movimento nacional-populista”',\n",
       " '“não água potável eletricidade escolas nem saúde; uma autêntica catástrofe”',\n",
       " 'ajax faz carnaval bernabéu goleia real madrid avança quartas champions league',\n",
       " 'onde como assistir psg manchester united pela champions league',\n",
       " 'battisti admite participação assassinatos mas recusa delatar',\n",
       " 'manchester united marca nos acréscimos graças var derruba psg nas oitavas champions',\n",
       " 'presidente méxico pede rei espanhol que desculpe por abusos colonização',\n",
       " 'crianças condenadas fogo descaso',\n",
       " 'trump reconhece soberania israel sobre colinas golã',\n",
       " '“esqueceram-se dos 70.000 mortos onda calor 2003”',\n",
       " 'diretora suplemento feminino jornal vaticano demite por tentativas calá-lo',\n",
       " 'dois sobreviventes massacre parkland suicidam mesma semana',\n",
       " 'fracasso democrata para derrubar veto trump congresso',\n",
       " 'theresa may oferece sua demissão para salvar seu plano brexit',\n",
       " 'trump: rússia tem que embora venezuela”',\n",
       " 'exceção japonesa terremoto político das democracias avançadas',\n",
       " 'onde como assistir real madrid barcelona pelas semifinais copa rei',\n",
       " 'presidente ficção humorista favorito disputa eleitoral ucrânia',\n",
       " 'charme decadente que coloca montevidéu topo das cidades latino-americanas',\n",
       " 'regime maduro proíbe juan guaidó ocupar cargos públicos por anos',\n",
       " 'bruno latour: sentimento perder mundo agora coletivo”',\n",
       " 'após terceira rejeição plano may para brexit que pode acontecer?',\n",
       " 'parlamento britânico rejeita pela terceira vez plano may para brexit',\n",
       " 'brasileiro insensato que rebate racismo com xenofobia',\n",
       " 'paraguai homenageia jesuíta espanhol que enfrentou ditadura alfredo stroessner',\n",
       " 'horas gaza',\n",
       " 'chile política repudia figura pinochet matiza seu legado econômico',\n",
       " 'macri perde luta contra pobreza ano eleição argentina',\n",
       " 'cruz vermelha afirma que distribuirá ajuda humanitária venezuela dias',\n",
       " 'maduro anuncia dias racionamento energia venezuela',\n",
       " 'milícia exército popular serviço maduro',\n",
       " 'argélia anuncia que buteflika deixará presidência antes abril',\n",
       " 'que por trás idílio político bolsonaro com israel netanyahu',\n",
       " 'alemanha ensina rebater discurso populista cunhado',\n",
       " 'ambição presidencial joe biden ameaçada por duas acusações conduta sexual imprópria',\n",
       " 'cúpula militar uruguaia cai após revelação crimes ditadura',\n",
       " 'gesto inédito bolsonaro visita muro das lamentações com netanyahu',\n",
       " 'supremo venezuelano ordena retirada imunidade parlamentar juan guaidó',\n",
       " 'brexit: esses britânicos estão loucos?',\n",
       " 'busca equilíbrio entre idosos imigrantes robôs japão',\n",
       " 'ascensão imparável das ‘cholitas escaladoras’',\n",
       " 'sete jovens negros olimpo educação pública nova york',\n",
       " 'bolsonaro despede israel com promessas econômicas gafe sobre nazismo',\n",
       " 'idoso preso por ajudar esposa fazer eutanásia após anos luta contra esclerose múltipla',\n",
       " 'chicago elege sua primeira prefeita negra homossexual',\n",
       " 'vozes recuperadas ditadura argentina',\n",
       " 'esportes vivem paralisia sem planos detalhados nomeações travadas',\n",
       " 'brasil leva susto mas vence república tcheca virada',\n",
       " 'brunei começa punir com apedrejamento adultério homossexualidade',\n",
       " 'pebolim mais caro mundo vale 350.000 reais',\n",
       " 'jogador seleção sub-20 que comeu carne méxico foi pego doping',\n",
       " 'clubes que posicionaram aniversário golpe militar',\n",
       " 'duas faces brasil entediante',\n",
       " '“bonucci diz que muita gente pensa: negros merecem que acontece com eles”',\n",
       " 'oit alerta para precarização emprego nível mundial',\n",
       " 'frança impulsiona acesso juvenil cultura com cheque 500 euros',\n",
       " 'enorme inadiável) tarefa regular capitalismo digital',\n",
       " 'acionistas embraer aprovam acordo com boeing fusão pode ser firmada neste ano',\n",
       " 'pib 2018 resultado pífio final ano desafiam governo bolsonaro',\n",
       " 'tragédia brumadinho derruba grau investimento vale',\n",
       " 'wolfgang streeck: preciso quebrar euro logo”',\n",
       " 'universidade que quer oferecer uma educação nível harvard pela metade preço',\n",
       " 'carlos ghosn solto sob fiança após mais três meses prisão',\n",
       " 'ocde reduz fortemente previsão crescimento zona euro 2019',\n",
       " '58% das empresas bovespa não têm nenhuma mulher conselho administração',\n",
       " 'gol anuncia suspensão voos com boeing 737 max após acidente etiópia',\n",
       " 'força que barrou mega projeto amazon nova york',\n",
       " 'volkswagen vai cortar entre 5.000 7.000 empregos até 2023 sua aposta carro elétrico',\n",
       " 'mundo rende aos arranha-céus madeira',\n",
       " 'curto-circuito político faz economia calcanhar aquiles bolsonaro',\n",
       " 'estatal espanhola fica com aeroportos nordeste leilão positivo para bolsonaro',\n",
       " 'aposentar-se aos solteiras que herdam pensões... abismos previdência brasileira',\n",
       " 'spotify lança publicidade apenas para pessoas felizes',\n",
       " 'empresa saudita que lucra mais que apple facebook microsoft juntas',\n",
       " 'boeing enfrenta crise mais difícil sua história',\n",
       " 'fmi descarta recessão mundial mas alerta para impacto brexit guerra comercial',\n",
       " 'ex-mulher jeff bezos fica com bilhões dólares ações amazon',\n",
       " 'não ‘backlash’ provocado pelo feminismo',\n",
       " 'mulheres homens trabalho doméstico não remunerado',\n",
       " 'mulheres negras mais vulneráveis entre mais vulneráveis',\n",
       " 'bolsonaro: proibidão para menores maiores',\n",
       " 'grupos que sustentam maduro serão principal desafio qualquer futuro governo venezuela',\n",
       " 'quem mandou matar marielle? por quê?',\n",
       " 'socialismo ‘millennial’ nos eua',\n",
       " 'três ameaças que pairam sobre web',\n",
       " 'marielle atemoriza porque representa tudo que estética bolsonarista combate despreza',\n",
       " 'não desenvolvimento sem proteção ambiental',\n",
       " 'brasileiros transformam metáfora política história das galinhas que rebelaram contra raposa',\n",
       " 'não podemos esperar',\n",
       " 'cidade imensa triste',\n",
       " 'velhos',\n",
       " 'querer colocar bíblia centro educação escolar significa devolver brasil cavernas',\n",
       " 'violência obstétrica uma forma desumanização das mulheres',\n",
       " 'curioso tempo prisão temer',\n",
       " 'era dos reptilianos',\n",
       " 'querer matar carnaval atentado alma brasil',\n",
       " 'celebrar golpe representa uma derrota para democracia',\n",
       " 'bolsonaro manda festejar crime',\n",
       " 'mas quem essa nova direita que ganha espaço pelo mundo?',\n",
       " 'primavera dem',\n",
       " 'argentina falar ditadura dos militares que conduziram motivo desonra',\n",
       " 'depressão pós-parto das reprodutoras',\n",
       " 'história não pode ser apagada reescrita. lembrar que houve ditadura valoriza conquistas hoje',\n",
       " 'fuga simbólica bolsonaro para israel 55º aniversário ditadura brasileira',\n",
       " 'não temos tempo perder. hora unir forças democráticas agora',\n",
       " 'sete tiros fuzil presidente',\n",
       " 'extrema direita contra picasso',\n",
       " '‘stranger things’ esquenta motores com trailer terceira temporada',\n",
       " 'johann sebastian bach compositor que cativou mundo',\n",
       " 'sandy junior produto nostálgico sob medida para ‘millennial’',\n",
       " 'impacto invisível falta acesso água',\n",
       " '“nunca vou entender por que deixaram michael jackson dormir com crianças”',\n",
       " 'fenômeno dos muitos ‘hitlers’ para leilão',\n",
       " 'imune sua dor alguns lampejos glória',\n",
       " 'gal costa: disco alegre para tempos sombrios brasil mundo”',\n",
       " 'dolorosa vida enigmática morte verdadeiro dumbo elefante triste',\n",
       " 'reforma europeia garante direitos autor internet mas levanta receios sobre liberdade',\n",
       " '‘dumbo’ animação carne osso',\n",
       " 'agnès varda diretora mítica nouvelle vague morre aos anos',\n",
       " 'que aconteceria museus europeus tivessem que devolver arte colonial espoliada?',\n",
       " 'poderoso chefão’ construção mito mafioso',\n",
       " 'pornô lésbico faz história salas comerciais cinemas brasil',\n",
       " 'joão gilberto ganha ação milionária por seus direitos autorais',\n",
       " 'rolling stones suspendem turnê pelos eua canadá porque mick jagger está doente',\n",
       " 'morre rafael sánchez ferlosio mestre singular das letras espanholas aos anos',\n",
       " 'mistério dos 158 corpos africanos escravizados jogados num lixão portugal',\n",
       " '‘tears heaven’: tragédia que inspirou uma das canções mais comoventes história',\n",
       " 'tudo funciona bem mick jagger menos coração',\n",
       " 'que fama fez com susan boyle mulher que revolucionou música televisão redes sociais',\n",
       " 'todos filmes tim burton pior melhor',\n",
       " 'flamenco com luzes sombras goya toma palcos brasil',\n",
       " 'nova temporada ‘la casa papel’ tem data estreia',\n",
       " '‘abaporu’ visita são paulo',\n",
       " 'prisão temer reacende debate sobre uso prisão preventiva pela lava jato',\n",
       " 'bolsonaro desenvolvimento dos filhos bolsa família: que pesquisadores realmente dizem',\n",
       " 'queda outro ex-presidente brasil nova fatura lava jato velha política brasileira',\n",
       " 'guerra todos contra todos governo bolsonaro',\n",
       " 'michel temer deixa prisão após decisão justiça federal rio',\n",
       " 'dois assessores bolsonaro doaram mais 100.000 reais campanhas família',\n",
       " 'bolsonaro escancara cadáver insepulto ditadura com celebração golpe',\n",
       " 'paulo guedes cancela ida câmara para defender reforma previdência acirra tensão com legislativo',\n",
       " 'partidos políticos fortes: proteção contra extremismos?',\n",
       " '“refletir sobre nosso comportamento online mais importante que votar”',\n",
       " 'morre jornalista rafael henzel sobrevivente tragédia com voo chapecoense',\n",
       " 'câmara envia recado indigesto bolsonaro antes analisar previdência',\n",
       " 'tensão escolas universidades esteira massacre suzano',\n",
       " 'bolsonaro maia trama adensa enquanto dólar tem forte alta',\n",
       " 'brasil dedo riste portas mackenzie',\n",
       " 'operando com 10% orçamento funai abandona postos coordenações áreas indígenas',\n",
       " 'desconfiança dos investidores com bolsonaro cresce dólar supera reais',\n",
       " 'rumo grupo cosan vence disputa pela ferrovia norte-sul',\n",
       " 'ferrovia norte-sul vale três vezes mais que previsto edital aponta estudo',\n",
       " 'gente está vendo corrosão geral das políticas estabelecidas mec”',\n",
       " 'jovem deputada que jogou contra cordas ministro educação sua “lista desejos”',\n",
       " '“não arrependo nada”',\n",
       " 'regra sangue operação condor aliança mortífera das ditaduras cone sul',\n",
       " 'passo atrás bolsonaro enfrentamento contra maia',\n",
       " 'neto lula não morreu meningite',\n",
       " 'câmara rio abre processo impeachment contra crivella',\n",
       " 'empresário assume financiamento vídeo pró-golpe veiculado por governo',\n",
       " 'quem pagou pelo vídeo revisionista ditadura distribuído pelo governo bolsonaro?',\n",
       " 'atos pró contra ditadura militar terminam confrontos são paulo',\n",
       " 'paulo guedes defende sua reforma previdência audiência câmara',\n",
       " 'horas numa fila por emprego: “as contas barriga não esperam”',\n",
       " 'ministro promete mudar livros didáticos por “visão mais ampla” ditadura',\n",
       " 'ainda sigla preferida enquanto psl novo roubam apoio psdb mdb',\n",
       " 'bolsonaro abraça ‘velha política’ aceno partidos por reforma previdência',\n",
       " 'moro mais popular que bolsonaro governo que segue perdendo aprovação',\n",
       " 'bolsonaro anuncia 13º salário para bolsa família para marcar 100 dias poder',\n",
       " 'atos por memória das vítimas ditadura multiplicam revés revisionismo bolsonaro',\n",
       " 'saúde mental dos estudantes mais desafio para escolas brasileiras',\n",
       " 'solitário paulo guedes esgrima com oposição pela reforma previdência',\n",
       " 'rota mata pessoas guararema terceira ação policial mais violenta história',\n",
       " '‘malhação’ joga luz sobre abuso sexual futebol',\n",
       " 'fortuna blindada cristiano ronaldo',\n",
       " 'nanga parbat obsessão com ‘montanha assassina’',\n",
       " 'forças curdo-árabes anunciam queda último bastião isis síria',\n",
       " 'israel ataca gaza hamas lança foguetes apesar anúncio cessar-fogo',\n",
       " 'dois aviões russos chegam venezuela com uma centena militares',\n",
       " 'tatiana roque: problema esquerda não pauta dita identitária mas sim lacração”',\n",
       " 'três espanholas estado islâmico: “só queremos embora”']"
      ]
     },
     "execution_count": 12,
     "metadata": {},
     "output_type": "execute_result"
    }
   ],
   "source": [
    "# Lendo o arquivo base de noticias e extraindo apenas os titles\n",
    "def limpa_frase(frase):\n",
    "    palavras = frase.split()\n",
    "    filtradas = [p.lower() for p in palavras if len(p) >= 3]\n",
    "    return ' '.join(filtradas)\n",
    "            \n",
    "\n",
    "link = 'https://raw.githubusercontent.com/geovanens/myserver/master/results.csv'\n",
    "results = pd.read_csv(link)\n",
    "documentos = results['text']\n",
    "noticias = results['title']\n",
    "\n",
    "noticias_filtradas = [limpa_frase(n) for n in noticias] # apenas titles\n",
    "noticias_filtradas"
   ]
  },
  {
   "cell_type": "code",
   "execution_count": 4,
   "metadata": {
    "colab": {
     "base_uri": "https://localhost:8080/",
     "height": 71
    },
    "colab_type": "code",
    "id": "dOEvr4iwVsJo",
    "outputId": "cdb0603d-9b52-4bd0-ca18-a617f796e35b"
   },
   "outputs": [],
   "source": [
    "# Lendo o modelo\n",
    "model = Word2Vec.load('pt.bin')"
   ]
  },
  {
   "cell_type": "markdown",
   "metadata": {
    "colab_type": "text",
    "id": "VUSYxA3xc127"
   },
   "source": [
    "### 1. Implemente uma função que recebe uma notícia e retorna os vetores (word embeddings) das palavras do título dessa notícia a partir dos word embeddings pré-treinados com o gensim (30 pts)."
   ]
  },
  {
   "cell_type": "code",
   "execution_count": 15,
   "metadata": {
    "colab": {},
    "colab_type": "code",
    "id": "2S5GI8cOcYRv"
   },
   "outputs": [],
   "source": [
    "def get_vetores(noticia):\n",
    "    vetores = {}\n",
    "    for p in noticia.split():\n",
    "        if p in model:\n",
    "            vetores[p] = model[p]\n",
    "    return vetores\n",
    "\n",
    "# get_vetores(noticias_filtradas[0])"
   ]
  },
  {
   "cell_type": "markdown",
   "metadata": {
    "colab_type": "text",
    "id": "2HqDWW7fe1ug"
   },
   "source": [
    "### 2. Implemente uma função que calcula o WMD (Word Mover's Distance) entre duas notícias usando os embeddings das palavras dos respectivos títulos  (35 pts);"
   ]
  },
  {
   "cell_type": "code",
   "execution_count": 13,
   "metadata": {
    "colab": {
     "base_uri": "https://localhost:8080/",
     "height": 88
    },
    "colab_type": "code",
    "id": "d-kaPpdFe3fo",
    "outputId": "679b14d1-68f1-4e28-cf7f-6546ee838c45"
   },
   "outputs": [],
   "source": [
    "def WMD2(noticia1, noticia2):\n",
    "    wmd = model.wmdistance(noticia1.lower().split(), noticia2.lower().split())\n",
    "    return wmd\n",
    "\n",
    "def WMD(noticia1, noticia2):\n",
    "    vetores1 = get_vetores(noticia1).values()\n",
    "    vetores2 = get_vetores(noticia2).values()\n",
    "  \n",
    "    wmd = 0\n",
    "    for emb1 in vetores1:\n",
    "        min_dist = math.inf\n",
    "        for emb2 in vetores2:\n",
    "            try:\n",
    "                min_dist = min(min_dist, math.sqrt(sum((emb1 - emb2) ** 2)))\n",
    "            except:\n",
    "                pass\n",
    "        wmd += min_dist * 1.0/len(vetores1)\n",
    " \n",
    "    return wmd"
   ]
  },
  {
   "cell_type": "code",
   "execution_count": 17,
   "metadata": {},
   "outputs": [
    {
     "name": "stdout",
     "output_type": "stream",
     "text": [
      "por que papa francisco ordenou abertura dos arquivos secretos vaticano sobre holocausto judeu?\n",
      "sociedade foi rubens paiva não facínoras que mataram”\n"
     ]
    },
    {
     "data": {
      "text/plain": [
       "23.213619211129174"
      ]
     },
     "execution_count": 17,
     "metadata": {},
     "output_type": "execute_result"
    }
   ],
   "source": [
    "#  WMD entre duas noticias sem relação\n",
    "n1 = noticias_filtradas[16]\n",
    "n2 = noticias_filtradas[0]\n",
    "print(n1)\n",
    "print(n2)\n",
    "WMD(n1, n2)"
   ]
  },
  {
   "cell_type": "markdown",
   "metadata": {},
   "source": [
    "#### Notamos um WMD alto para noticias sem relação"
   ]
  },
  {
   "cell_type": "code",
   "execution_count": 19,
   "metadata": {},
   "outputs": [
    {
     "name": "stdout",
     "output_type": "stream",
     "text": [
      "onde como assistir real madrid barcelona pelo campeonato espanhol\n",
      "onde como assistir real madrid barcelona pelas semifinais copa rei\n"
     ]
    },
    {
     "data": {
      "text/plain": [
       "8.672602805394636"
      ]
     },
     "execution_count": 19,
     "metadata": {},
     "output_type": "execute_result"
    }
   ],
   "source": [
    "#  WMD entre duas noticias com relação\n",
    "n1 = noticias_filtradas[43]\n",
    "n2 = noticias_filtradas[84]\n",
    "print(n1)\n",
    "print(n2)\n",
    "WMD(n1, n2)"
   ]
  },
  {
   "cell_type": "markdown",
   "metadata": {},
   "source": [
    "#### Notamos um WMD baixo para noticias com relação"
   ]
  },
  {
   "cell_type": "code",
   "execution_count": 22,
   "metadata": {},
   "outputs": [],
   "source": [
    "# Não precisa ser executado pois as distâncias foram previamente salvas no disco\n",
    "def get_distancias():\n",
    "    distancias = {}\n",
    "    for n in noticias_filtradas:\n",
    "        print(noticias_filtradas.index(n))\n",
    "        distancias[n] = []\n",
    "        for n2 in noticias_filtradas:\n",
    "            if n2 != n:\n",
    "                distancia = (n2, WMD(n, n2))\n",
    "                distancias[n].append(distancia)\n",
    "    return distancias"
   ]
  },
  {
   "cell_type": "code",
   "execution_count": 21,
   "metadata": {
    "colab": {
     "base_uri": "https://localhost:8080/",
     "height": 1000
    },
    "colab_type": "code",
    "id": "Bv0gWWHCfdYX",
    "outputId": "cc60f4f2-c46a-4946-bc02-7a42762b7126"
   },
   "outputs": [],
   "source": [
    "distancias = pickle.loads(open('distancias.pickle', \"rb\").read())\n",
    "\n",
    "# Salvo no disco pois é muito demorado a execução\n",
    "# O arquivo distancias contem todas as distancias WMD entre todos os titles\n",
    "# O arquivo é importante para o desenvolvimento da questão 3"
   ]
  },
  {
   "cell_type": "markdown",
   "metadata": {
    "colab_type": "text",
    "id": "PPbiSTntfOoQ"
   },
   "source": [
    "### 3. Implemente uma função que possa receber qualquer notícia como entrada e retornar as top-3 notícias mais similares (menos distantes) a ela (35 pts).\n"
   ]
  },
  {
   "cell_type": "code",
   "execution_count": 24,
   "metadata": {
    "colab": {
     "base_uri": "https://localhost:8080/",
     "height": 102
    },
    "colab_type": "code",
    "id": "Y6UGicpWfQLo",
    "outputId": "a7b78179-0e1b-4ea8-af91-e534708f4235"
   },
   "outputs": [
    {
     "name": "stdout",
     "output_type": "stream",
     "text": [
      "onde como assistir real madrid barcelona pelo campeonato espanhol\n"
     ]
    },
    {
     "data": {
      "text/plain": [
       "[('onde como assistir real madrid barcelona pelas semifinais copa rei',\n",
       "  8.672602805394636),\n",
       " ('barcelona volta vencer real madrid encaminha título campeonato espanhol',\n",
       "  10.29236028502499),\n",
       " ('onde como assistir barcelona lyon pela champions league',\n",
       "  12.00258181497641)]"
      ]
     },
     "execution_count": 24,
     "metadata": {},
     "output_type": "execute_result"
    }
   ],
   "source": [
    "def top3(noticia):\n",
    "    ordenadas = sorted(distancias[noticia], key=lambda x: x[1])\n",
    "    return ordenadas[:3]\n",
    "\n",
    "n1 = noticias_filtradas[43]\n",
    "print(n1)\n",
    "top3(n1)"
   ]
  },
  {
   "cell_type": "markdown",
   "metadata": {},
   "source": [
    "#### Podemos notar que as top3 noticias relacionadas a n1 acima são totalmente válidas, tratando do mesmo contexto de n1"
   ]
  },
  {
   "cell_type": "code",
   "execution_count": null,
   "metadata": {},
   "outputs": [],
   "source": []
  }
 ],
 "metadata": {
  "colab": {
   "name": "RILAB08.ipynb",
   "provenance": [],
   "version": "0.3.2"
  },
  "kernelspec": {
   "display_name": "Python 3",
   "language": "python",
   "name": "python3"
  },
  "language_info": {
   "codemirror_mode": {
    "name": "ipython",
    "version": 3
   },
   "file_extension": ".py",
   "mimetype": "text/x-python",
   "name": "python",
   "nbconvert_exporter": "python",
   "pygments_lexer": "ipython3",
   "version": "3.6.5"
  }
 },
 "nbformat": 4,
 "nbformat_minor": 1
}
