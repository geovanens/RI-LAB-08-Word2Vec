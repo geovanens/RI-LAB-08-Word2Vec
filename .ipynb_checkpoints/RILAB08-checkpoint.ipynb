{
 "cells": [
  {
   "cell_type": "code",
   "execution_count": 2,
   "metadata": {
    "colab": {},
    "colab_type": "code",
    "id": "7qmIqz34Tfvh"
   },
   "outputs": [],
   "source": [
    "import pandas as pd\n",
    "import csv\n",
    "import heapq\n",
    "import numpy as np\n",
    "from math import log\n",
    "\n",
    "\n",
    "def limpa_frase(frase):\n",
    "    palavras = frase.split()\n",
    "    filtradas = [p.lower() for p in palavras if len(p) >= 3]\n",
    "    return ' '.join(filtradas)\n",
    "            \n",
    "\n",
    "link = 'https://raw.githubusercontent.com/geovanens/myserver/master/results.csv'\n",
    "results = pd.read_csv(link)\n",
    "documentos = results['text']\n",
    "noticias = results['title']\n",
    "\n",
    "noticias_filtradas = [limpa_frase(n) for n in noticias]"
   ]
  },
  {
   "cell_type": "code",
   "execution_count": 3,
   "metadata": {
    "colab": {},
    "colab_type": "code",
    "id": "Ng31MMR1Uglz"
   },
   "outputs": [
    {
     "ename": "ModuleNotFoundError",
     "evalue": "No module named 'gensim'",
     "output_type": "error",
     "traceback": [
      "\u001b[0;31m---------------------------------------------------------------------------\u001b[0m",
      "\u001b[0;31mModuleNotFoundError\u001b[0m                       Traceback (most recent call last)",
      "\u001b[0;32m<ipython-input-3-6a6b15c625f6>\u001b[0m in \u001b[0;36m<module>\u001b[0;34m\u001b[0m\n\u001b[1;32m      1\u001b[0m \u001b[0;31m# Dependências\u001b[0m\u001b[0;34m\u001b[0m\u001b[0;34m\u001b[0m\u001b[0m\n\u001b[0;32m----> 2\u001b[0;31m \u001b[0;32mimport\u001b[0m \u001b[0mgensim\u001b[0m\u001b[0;34m\u001b[0m\u001b[0m\n\u001b[0m\u001b[1;32m      3\u001b[0m \u001b[0;32mimport\u001b[0m \u001b[0mpyemd\u001b[0m\u001b[0;34m\u001b[0m\u001b[0m\n\u001b[1;32m      4\u001b[0m \u001b[0;32mfrom\u001b[0m \u001b[0mgensim\u001b[0m\u001b[0;34m.\u001b[0m\u001b[0mmodels\u001b[0m \u001b[0;32mimport\u001b[0m \u001b[0mWord2Vec\u001b[0m\u001b[0;34m\u001b[0m\u001b[0m\n",
      "\u001b[0;31mModuleNotFoundError\u001b[0m: No module named 'gensim'"
     ]
    }
   ],
   "source": [
    "# Dependências\n",
    "import gensim\n",
    "import pyemd\n",
    "from gensim.models import Word2Vec"
   ]
  },
  {
   "cell_type": "code",
   "execution_count": null,
   "metadata": {
    "colab": {},
    "colab_type": "code",
    "id": "siD0MIUGUpKb"
   },
   "outputs": [],
   "source": [
    "from google.colab import files\n",
    "\n",
    "uploaded = files.upload()\n",
    "\n",
    "for fn in uploaded.keys():\n",
    "    print('User uploaded file \"{name}\" with length {length} bytes'.format(\n",
    "      name=fn, length=len(uploaded[fn])))\n"
   ]
  },
  {
   "cell_type": "code",
   "execution_count": null,
   "metadata": {
    "colab": {
     "base_uri": "https://localhost:8080/",
     "height": 71
    },
    "colab_type": "code",
    "id": "dOEvr4iwVsJo",
    "outputId": "cdb0603d-9b52-4bd0-ca18-a617f796e35b"
   },
   "outputs": [],
   "source": [
    "model = Word2Vec.load('pt.bin')"
   ]
  },
  {
   "cell_type": "markdown",
   "metadata": {
    "colab_type": "text",
    "id": "VUSYxA3xc127"
   },
   "source": [
    "### 1. Implemente uma função que recebe uma notícia e retorna os vetores (word embeddings) das palavras do título dessa notícia a partir dos word embeddings pré-treinados com o gensim (30 pts)."
   ]
  },
  {
   "cell_type": "code",
   "execution_count": null,
   "metadata": {
    "colab": {},
    "colab_type": "code",
    "id": "2S5GI8cOcYRv"
   },
   "outputs": [],
   "source": [
    "def get_vetores(noticia):\n",
    "    vetores = {}\n",
    "    for p in noticia.split():\n",
    "        if p in model:\n",
    "            vetores[p] = model[p]\n",
    "    return vetores\n",
    "\n",
    "get_vetores(noticias_filtradas[0])"
   ]
  },
  {
   "cell_type": "markdown",
   "metadata": {
    "colab_type": "text",
    "id": "2HqDWW7fe1ug"
   },
   "source": [
    "### 2. Implemente uma função que calcula o WMD (Word Mover's Distance) entre duas notícias usando os embeddings das palavras dos respectivos títulos  (35 pts);"
   ]
  },
  {
   "cell_type": "code",
   "execution_count": null,
   "metadata": {
    "colab": {
     "base_uri": "https://localhost:8080/",
     "height": 88
    },
    "colab_type": "code",
    "id": "d-kaPpdFe3fo",
    "outputId": "679b14d1-68f1-4e28-cf7f-6546ee838c45"
   },
   "outputs": [],
   "source": [
    "def WMD(noticia1, noticia2):\n",
    "    wmd = model.wmdistance(noticia1.lower().split(), noticia2.lower().split())\n",
    "    return wmd\n",
    "\n",
    "WMD(noticias_filtradas[0], noticias_filtradas[1])"
   ]
  },
  {
   "cell_type": "code",
   "execution_count": null,
   "metadata": {
    "colab": {
     "base_uri": "https://localhost:8080/",
     "height": 1000
    },
    "colab_type": "code",
    "id": "Bv0gWWHCfdYX",
    "outputId": "cc60f4f2-c46a-4946-bc02-7a42762b7126"
   },
   "outputs": [],
   "source": [
    "distancias = {}\n",
    "for n in noticias_filtradas:\n",
    "    distancias[n] = []\n",
    "    for n2 in noticias_filtradas:\n",
    "        if n2 != n:\n",
    "            distancia = (n2, WMD(n, n2))\n",
    "            distancias[n].append(distancia)\n",
    "\n",
    "distancias"
   ]
  },
  {
   "cell_type": "markdown",
   "metadata": {
    "colab_type": "text",
    "id": "PPbiSTntfOoQ"
   },
   "source": [
    "### 3. Implemente uma função que possa receber qualquer notícia como entrada e retornar as top-3 notícias mais similares (menos distantes) a ela (35 pts).\n"
   ]
  },
  {
   "cell_type": "code",
   "execution_count": null,
   "metadata": {
    "colab": {
     "base_uri": "https://localhost:8080/",
     "height": 102
    },
    "colab_type": "code",
    "id": "Y6UGicpWfQLo",
    "outputId": "a7b78179-0e1b-4ea8-af91-e534708f4235"
   },
   "outputs": [],
   "source": [
    "def top3(noticia):\n",
    "    ordenadas = sorted(distancias[noticia], key=lambda x: x[1])\n",
    "    return ordenadas[:3]\n",
    "\n",
    "print(noticias_filtradas[0])\n",
    "top3(noticias_filtradas[0])"
   ]
  }
 ],
 "metadata": {
  "colab": {
   "name": "RILAB08.ipynb",
   "provenance": [],
   "version": "0.3.2"
  },
  "kernelspec": {
   "display_name": "Python 3",
   "language": "python",
   "name": "python3"
  },
  "language_info": {
   "codemirror_mode": {
    "name": "ipython",
    "version": 3
   },
   "file_extension": ".py",
   "mimetype": "text/x-python",
   "name": "python",
   "nbconvert_exporter": "python",
   "pygments_lexer": "ipython3",
   "version": "3.6.5"
  }
 },
 "nbformat": 4,
 "nbformat_minor": 1
}
